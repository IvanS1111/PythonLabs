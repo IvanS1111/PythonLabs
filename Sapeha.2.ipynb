{
 "cells": [
  {
   "cell_type": "markdown",
   "metadata": {},
   "source": [
    "<h2> Прямые методы</h2>\n",
    "<h3> Метод Гаусса</h3>\n",
    "\n",
    "Ме́тод Га́усса — классический метод решения системы линейных алгебраических уравнений (СЛАУ).Это метод последовательного исключения переменных, когда с помощью элементарных преобразований система уравнений приводится к равносильной системе треугольного вида, из которой последовательно, начиная с последних (по номеру), находятся все переменные системы\n",
    "Алгоритм решения СЛАУ методом Гаусса подразделяется на два этапа:\n",
    "\n",
    "1)На первом этапе осуществляется так называемый прямой ход, когда путём элементарных преобразований над строками систему приводят к ступенчатой или треугольной форме, либо устанавливают, что система несовместна. А именно, среди элементов первого столбца матрицы выбирают ненулевой, перемещают его на крайнее верхнее положение перестановкой строк и вычитают получившуюся после перестановки первую строку из остальных строк, домножив её на величину, равную отношению первого элемента каждой из этих строк к первому элементу первой строки, обнуляя тем самым столбец под ним. После того, как указанные преобразования были совершены, первую строку и первый столбец мысленно вычёркивают и продолжают, пока не останется матрица нулевого размера. Если на какой-то из итераций среди элементов первого столбца не нашёлся ненулевой, то переходят к следующему столбцу и проделывают аналогичную операцию.\n",
    "\n",
    "2)На втором этапе осуществляется так называемый обратный ход, суть которого заключается в том, чтобы выразить все получившиеся базисные переменные через небазисные и построить фундаментальную систему решений, либо, если все переменные являются базисными, то выразить в численном виде единственное решение системы линейных уравнений. Эта процедура начинается с последнего уравнения, из которого выражают соответствующую базисную переменную (а она там всего одна) и подставляют в предыдущие уравнения, и так далее, поднимаясь по «ступенькам» наверх. Каждой строчке соответствует ровно одна базисная переменная, поэтому на каждом шаге, кроме последнего (самого верхнего), ситуация в точности повторяет случай последней строки.\n",
    "\n",
    "Метод Гаусса требует $O(n^3)$ арифметических операций.\n",
    "\n",
    "<h3>Метод Жордана-Гаусса</h3>\n",
    "\n",
    "1.Выбирают первый слева столбец матрицы, в котором есть хоть одно отличное от нуля значение.\n",
    "\n",
    "2.Если самое верхнее число в этом столбце ноль, то меняют всю первую строку матрицы с другой строкой матрицы, где в этой колонке нет нуля.\n",
    "\n",
    "3.Все элементы первой строки делят на верхний элемент выбранного столбца.\n",
    "\n",
    "4.Из оставшихся строк вычитают первую строку, умноженную на первый элемент соответствующей строки, с целью получить первым элементом каждой строки (кроме первой) ноль.\n",
    "\n",
    "5.Далее проводят такую же процедуру с матрицей, получающейся из исходной матрицы после вычёркивания первой строки и первого столбца.\n",
    "\n",
    "6.После повторения этой процедуры $n-1$ раз получают верхнюю треугольную матрицу\n",
    "\n",
    "Параллельно с этими преобразованиями преобразуют вектор $\\vec{b}$ как будто он является элементом матрицы.Он и будет содержать значения x\n",
    "\n",
    "<h3>LU-факторизация</h3>\n",
    "Пусть\n",
    "$$Ax = b$$\n",
    "Если известно LU-разложение матрицы $A = LU$, исходная система может быть записана как $$LUx = b$$, где $U$ вычисляется как $$u_{i,j} = a_{i ,j} - \\sum_{i=1}^{i-1}l_{i,k}u_{k,j}$$, а $L$ вычисляется как $$l_{j,i} = \\frac{1}{u_{i,i}}(a_{j ,i} - \\sum_{i=1}^{i-1}l_{j,k}u_{k,i})$$\n",
    "<h2>Устойчивость и точность методов</h2>\n",
    "Число $cond(A) = AA^{-1}$   называется числом обусловленности матрицы А.Если $cond(A)>=10^3$, то говорят, что матрица А плохо обусловлена. Если $1<=cond(A)<=100$, то матрица считается хорошо обусловленной.Число обусловленности показывает насколько изменяется значение функции в зависимости от изменения входного аргумента <br/>\n",
    "Спектральный радиус матрицы равен максимальному значению из собственных чисел $ρ(A) = max(|λ|)$ <br/>\n",
    "Спектральный радиус с нормой : $ρ(A) <= ||A||$ <br/>\n",
    "<h2>Итерационные методы (метод Якоби, метод Гаусса-Зейделя, метод последовательных\n",
    "релаксации, метод неполной факторизации)</h2>\n",
    "<h3>Метод Якоби</h3>\n",
    "\n",
    "Метод Якоби — разновидность метода простой итерации для решения системы линейных алгебраических уравнений.\n",
    "Для того, чтобы построить итеративную процедуру метода Якоби, необходимо провести предварительное преобразование системы уравнений $A\\vec{x} = \\vec{b}$ к итерационному виду $\\vec{x} = B\\vec{x} + \\vec{g}$. Тогда процедура нахождения решения имеет вид\n",
    "$$\\vec{x}^{(k+1)} = B\\vec{x}^{(k)} + \\vec{g}$$ Или в виде поэлементной формулы:\n",
    "$$x_i^{(k + 1)} =\\frac{1}{a_{ii}}(b_i - ∑a_{ij}x_j^{(k)}), i = 1,2...n$$\n",
    "\n",
    "<h2>Метод Гаусса — Зейделя</h2>\n",
    "\n",
    "Метод Гаусса — Зейделя можно рассматривать как модификацию метода Якоби. Основная идея модификации состоит в том, что новые значения $\\vec{x^{(i)}}$ используются здесь сразу же по мере получения, в то время как в методе Якоби они не используются до следующей итерации\n",
    "<h2>конечно-итерационные методы (метод сопряженных градиентов, переобусловленный\n",
    "метод сопряженных градиентов)</h2>\n",
    "<h3>Алгортим</h3>\n",
    "1)Выберем начальное приближение: $x^0$ <br/>\n",
    "$r^0 = b - Ax^0$ <br/>\n",
    "$z^0 = r^0$ <br/>\n",
    "2) $k-я$ итерация метода: <br/>\n",
    "$α_k = \\frac{(r^{k-1},r^{k-1})}{(Az^{k-1},z^{k-1})}$ <br/>\n",
    "$x^k = x^{k-1} + α_kz^{k-1}$ <br/>\n",
    "$r^k = r^{k-1} - α_kAz^{k-1}$ <br/>\n",
    "$β_k = \\frac{(r^k,r^k)}{(r^{k-1},r^{k-1})}$ <br/>\n",
    "$z^k = r^k + β_kz^{k-1}$ <br/>\n",
    "<h3>Алгортим для предобусловленной системы</h3>\n",
    "1)Выберем начальное приближение: $x^0$ <br/>\n",
    "$r^0 = Q(b - SAx^0)$ <br/>\n",
    "$z^0 = r^0$ <br/>\n",
    "$\\hat{x}^0 = Qx^0$ <br/>\n",
    "2) $k-я$ итерация метода: <br/>\n",
    "$α_k = \\frac{(r^{k-1},r^{k-1})}{(SAQz^{k-1},z^{k-1})}$ <br/>\n",
    "$x^k = x^{k-1} + α_kz^{k-1}$ <br/>\n",
    "$r^k = r^{k-1} - α_kSAQz^{k-1}$ <br/>\n",
    "$β_k = \\frac{(r^k,r^k)}{(r^{k-1},r^{k-1})}$ <br/>\n",
    "$z^k = r^k + β_kz^{k-1}$ <br/>\n",
    "<h2>Точность и сходимость - обзор по методам</h2>\n",
    "1)предобусловленный метод сопряженных градиентов <br/>\n",
    "2)метод сопряженных градиентов <br/>\n",
    "3)Метод Гаусса — Зейделя <br/>\n",
    "4)Метод Якоби <br/>\n",
    "<h2> Плохо-обусловленные системы</h2>\n",
    "Если система $Ax = b$ плохо обусловлена то это значит, что погрешности коэффициентов матрицы и правых частей или погрешности округления при расчётах могут сильно исказить решение.Для уменьшения погрешностей округления можно провести расчёт с двойной точностью.Но при наличии погрешности коэффициентов это не имеет смысла и нужно регулировать исходную задачу."
   ]
  },
  {
   "cell_type": "markdown",
   "metadata": {},
   "source": [
    "<h2>Задание 1 , Метод Гаусса-Жордана<h2>"
   ]
  },
  {
   "cell_type": "code",
   "execution_count": 11,
   "metadata": {},
   "outputs": [
    {
     "name": "stdout",
     "output_type": "stream",
     "text": [
      "[[4.247 0.275 0.397 0.239 0.721]\n",
      " [0.466 4.235 0.264 0.358 0.339]\n",
      " [0.204 0.501 3.721 0.297 0.05 ]\n",
      " [0.326 0.421 0.254 3.286 0.486]]\n",
      "[[ 1.          0.          0.          0.          0.16043268]\n",
      " [ 0.          1.          0.          0.          0.05250317]\n",
      " [ 0.          0.          1.          0.         -0.01250222]\n",
      " [ 0.          0.          0.          1.          0.12622358]]\n"
     ]
    }
   ],
   "source": [
    "import numpy as np\n",
    "import copy\n",
    "arr = np.array([[4.247,0.275,0.397,0.239,0.721],\n",
    "                [0.466,4.235,0.264,0.358,0.339],\n",
    "                [0.204,0.501,3.721,0.297,0.050],\n",
    "                [0.326,0.421,0.254,3.286,0.486]])\n",
    "\n",
    "b = np.array([0.721,0.339,0.050,0.486])\n",
    "def Gauss(size, arr):\n",
    "    print(arr)\n",
    "        \n",
    "    for t in range(size):\n",
    "        if arr[t][t] == 0:\n",
    "            for i in range(t + 1, size, 1):\n",
    "                if arr[i][t] != 0:\n",
    "                    buffer = copy.copy(arr[i])\n",
    "                    arr[i] = arr[t]\n",
    "                    arr[t] = buffer \n",
    "                    break\n",
    "        arr[0 + t] /= arr[t][t]\n",
    "        for i in range(t + 1, size, 1):\n",
    "                arr[i] -= arr[t] * arr[i][t]\n",
    "    \n",
    "    for t in range(size):  \n",
    "        if arr[size - 1 - t][size - 1 - t] == 0:\n",
    "            for i in range(size - t, -1, -1):\n",
    "                if arr[i][t] != 0:\n",
    "                    buffer = copy.copy(arr[i])\n",
    "                    arr[i] = arr[t]\n",
    "                    arr[t] = buffer \n",
    "                    break\n",
    "        arr[size - 1 - t] /= arr[size - 1 - t][size - 1 - t]\n",
    "        for i in range(size - 2 - t, -1, -1):\n",
    "            arr[i] -= arr[size - 1 - t] * arr[i][size - 1 - t]\n",
    "         \n",
    "    print(arr)\n",
    "        \n",
    "Gauss(4, arr)\n",
    "    "
   ]
  },
  {
   "cell_type": "markdown",
   "metadata": {},
   "source": [
    "<h2>Задание 1 , Метод Якоби<h2>"
   ]
  },
  {
   "cell_type": "code",
   "execution_count": 86,
   "metadata": {},
   "outputs": [
    {
     "name": "stdout",
     "output_type": "stream",
     "text": [
      "B\n",
      "[[-0.         -0.06475159 -0.09347775 -0.05627502]\n",
      " [-0.11003542 -0.         -0.06233766 -0.08453365]\n",
      " [-0.05482397 -0.13464123 -0.         -0.07981725]\n",
      " [-0.09920876 -0.12811929 -0.07729763 -0.        ]]\n",
      "0.2594071522157236\n",
      "[ 0.16043828  0.05250954 -0.01249549  0.12623086]\n"
     ]
    },
    {
     "data": {
      "image/png": "[encoded data removed]",
      "text/plain": [
       "<Figure size 432x288 with 1 Axes>"
      ]
     },
     "metadata": {
      "needs_background": "light"
     },
     "output_type": "display_data"
    },
    {
     "data": {
      "image/png": "[encoded data removed]",
      "text/plain": [
       "<Figure size 432x288 with 1 Axes>"
      ]
     },
     "metadata": {
      "needs_background": "light"
     },
     "output_type": "display_data"
    },
    {
     "data": {
      "image/png": "[encoded data removed]",
      "text/plain": [
       "<Figure size 432x288 with 1 Axes>"
      ]
     },
     "metadata": {
      "needs_background": "light"
     },
     "output_type": "display_data"
    },
    {
     "data": {
      "image/png": "[encoded data removed]",
      "text/plain": [
       "<Figure size 432x288 with 1 Axes>"
      ]
     },
     "metadata": {
      "needs_background": "light"
     },
     "output_type": "display_data"
    },
    {
     "data": {
      "image/png": "[encoded data removed]",
      "text/plain": [
       "<Figure size 432x288 with 1 Axes>"
      ]
     },
     "metadata": {
      "needs_background": "light"
     },
     "output_type": "display_data"
    }
   ],
   "source": [
    "import numpy as np\n",
    "import copy\n",
    "import matplotlib.pyplot as plt\n",
    "from numpy import linalg as la\n",
    "arr = np.array([[4.247,0.275,0.397,0.239],\n",
    "                [0.466,4.235,0.264,0.358],\n",
    "                [0.204,0.501,3.721,0.297],\n",
    "                [0.326,0.421,0.254,3.286]])\n",
    "\n",
    "b = np.array([0.721,0.339,0.050,0.486])\n",
    "\n",
    "def Jacobi(arr, b, error):\n",
    "    pt0 = []\n",
    "    pt1 = []\n",
    "    pt2 = []\n",
    "    pt3 = []\n",
    "    ptg = []\n",
    "    \n",
    "    size = len(b)\n",
    "    B = np.zeros((size,size))\n",
    "    \n",
    "    for i in range(size):\n",
    "        b[i] /= arr[i][i]\n",
    "        for j in range(size):\n",
    "            B[i][j] = arr[i][j]\n",
    "            B[i][j] /= arr[i][i]\n",
    "            \n",
    "    for i in range(size):\n",
    "        B[i][i] = 0\n",
    "        \n",
    "    B *= -1\n",
    "    print(\"B\")\n",
    "    print(B)\n",
    "    \n",
    "    selfvalue = la.eig(B)\n",
    "    print(max(abs(selfvalue[0])))\n",
    "    \n",
    "    x = copy.copy(b)\n",
    "    for i in range(size):\n",
    "        x[i] = 0\n",
    "\n",
    "    while True:\n",
    "        buffer = copy.copy(x)\n",
    "        x = np.dot(B,x) + b\n",
    "        pt0.append(la.norm(x[0] - buffer[0]))\n",
    "        pt1.append(la.norm(x[1] - buffer[1]))\n",
    "        pt2.append(la.norm(x[2] - buffer[2]))\n",
    "        pt3.append(la.norm(x[3] - buffer[3]))\n",
    "        ptg.append(la.norm(x - buffer))\n",
    "        if la.norm(x - buffer) < (1 - la.norm(B))*error/la.norm(B):\n",
    "            break\n",
    "            \n",
    "    print(x)\n",
    "    plt.plot(pt0)\n",
    "    plt.ylabel('Error')\n",
    "    plt.xlabel('Iteration')\n",
    "    plt.show()\n",
    "    \n",
    "    plt.plot(pt1)\n",
    "    plt.ylabel('Error')\n",
    "    plt.xlabel('Iteration')\n",
    "    plt.show()\n",
    "    \n",
    "    plt.plot(pt2)\n",
    "    plt.ylabel('Error')\n",
    "    plt.xlabel('Iteration')\n",
    "    plt.show()\n",
    "    \n",
    "    plt.plot(pt3)\n",
    "    plt.ylabel('Error')\n",
    "    plt.xlabel('Iteration')\n",
    "    plt.show()\n",
    "    \n",
    "    plt.plot(ptg)\n",
    "    plt.ylabel('Error')\n",
    "    plt.xlabel('Iteration')\n",
    "    plt.show()\n",
    "    \n",
    "\n",
    "\n",
    "Jacobi(arr, b, 10e-5)\n",
    "    "
   ]
  },
  {
   "cell_type": "markdown",
   "metadata": {},
   "source": [
    "<h2>Задание 1 , Метод Гаусса<h2>"
   ]
  },
  {
   "cell_type": "code",
   "execution_count": 10,
   "metadata": {
    "scrolled": false
   },
   "outputs": [
    {
     "name": "stdout",
     "output_type": "stream",
     "text": [
      "[[4.247 0.275 0.397 0.239 0.721]\n",
      " [0.466 4.235 0.264 0.358 0.339]\n",
      " [0.204 0.501 3.721 0.297 0.05 ]\n",
      " [0.326 0.421 0.254 3.286 0.486]]\n",
      "[[ 1.          0.06475159  0.09347775  0.05627502  0.16976689]\n",
      " [ 0.          1.          0.05242533  0.07890359  0.06180723]\n",
      " [ 0.          0.          1.          0.06719462 -0.00402067]\n",
      " [ 0.          0.          0.          1.          0.12622358]]\n",
      "[0.1604326758650177, 0.05250316832607593, -0.012502218725730391, 0.12622357801553918]\n"
     ]
    }
   ],
   "source": [
    "import numpy as np\n",
    "arr = np.array([[4.247,0.275,0.397,0.239,0.721],\n",
    "                [0.466,4.235,0.264,0.358,0.339],\n",
    "                [0.204,0.501,3.721,0.297,0.050],\n",
    "                [0.326,0.421,0.254,3.286,0.486]])\n",
    "\n",
    "b = np.array([0.721,0.339,0.050,0.486])\n",
    "def GaussJordan(size, arr):\n",
    "    print(arr)\n",
    "        \n",
    "    \n",
    "    for t in range(size):\n",
    "        if arr[t][t] == 0:\n",
    "            for i in range(t + 1, size, 1):\n",
    "                if arr[i][t] != 0:\n",
    "                    buffer = copy.copy(arr[i])\n",
    "                    arr[i] = arr[t]\n",
    "                    arr[t] = buffer \n",
    "                    break\n",
    "        arr[0 + t] /= arr[0 + t][0 + t]\n",
    "        for i in range(t + 1, size, 1):\n",
    "                arr[i] -= arr[0 + t] * arr[i][0 + t]\n",
    "    \n",
    "    ans = []\n",
    "    for i in range(size - 1, -1, -1):\n",
    "        s = 0\n",
    "        for j in range(i + 1, size):\n",
    "            s += arr[i][j] * ans[size - 1 - j]\n",
    "        ans.append(arr[i][size] - s)\n",
    "        \n",
    "            \n",
    "    print(arr)\n",
    "    print(ans[::-1])\n",
    "        \n",
    "GaussJordan(4, arr)"
   ]
  },
  {
   "cell_type": "markdown",
   "metadata": {},
   "source": [
    "<h2>Задание 1 , Метод Гаусса-Зейделя<h2>"
   ]
  },
  {
   "cell_type": "code",
   "execution_count": 85,
   "metadata": {},
   "outputs": [
    {
     "name": "stdout",
     "output_type": "stream",
     "text": [
      "[ 0.16976689  0.06136685 -0.00413256  0.12351498]\n",
      "[ 0.15922879  0.05234286 -0.01219844  0.12634007]\n",
      "[ 0.1604081   0.05247709 -0.01250666  0.1262297 ]\n",
      "[ 0.16043444  0.05250273 -0.01250275  0.1262235 ]\n",
      "[ 0.16043276  0.0525032  -0.01250222  0.12622357]\n"
     ]
    },
    {
     "data": {
      "image/png": "[encoded data removed]",
      "text/plain": [
       "<Figure size 432x288 with 1 Axes>"
      ]
     },
     "metadata": {
      "needs_background": "light"
     },
     "output_type": "display_data"
    },
    {
     "data": {
      "image/png": "[encoded data removed]",
      "text/plain": [
       "<Figure size 432x288 with 1 Axes>"
      ]
     },
     "metadata": {
      "needs_background": "light"
     },
     "output_type": "display_data"
    },
    {
     "data": {
      "image/png": "[encoded data removed]",
      "text/plain": [
       "<Figure size 432x288 with 1 Axes>"
      ]
     },
     "metadata": {
      "needs_background": "light"
     },
     "output_type": "display_data"
    },
    {
     "data": {
      "image/png": "[encoded data removed]",
      "text/plain": [
       "<Figure size 432x288 with 1 Axes>"
      ]
     },
     "metadata": {
      "needs_background": "light"
     },
     "output_type": "display_data"
    },
    {
     "data": {
      "image/png": "[encoded data removed]",
      "text/plain": [
       "<Figure size 432x288 with 1 Axes>"
      ]
     },
     "metadata": {
      "needs_background": "light"
     },
     "output_type": "display_data"
    }
   ],
   "source": [
    "import numpy as np\n",
    "from numpy import linalg as la\n",
    "import matplotlib.pyplot as plt\n",
    "import copy\n",
    "arr = np.array([[4.247,0.275,0.397,0.239],\n",
    "                [0.466,4.235,0.264,0.358],\n",
    "                [0.204,0.501,3.721,0.297],\n",
    "                [0.326,0.421,0.254,3.286]])\n",
    "\n",
    "b = np.array([0.721,0.339,0.050,0.486])\n",
    "    \n",
    "def Zeidel(arr, b, error):\n",
    "    pt0 = []\n",
    "    pt1 = []\n",
    "    pt2 = []\n",
    "    pt3 = []\n",
    "    ptg = []\n",
    "    \n",
    "    \n",
    "    size = len(b)\n",
    "    x = copy.copy(b)\n",
    "    x_new = copy.copy(x)\n",
    "    \n",
    "    for i in range(size):\n",
    "        x[i] = 0\n",
    "        x_new[i] = 1\n",
    "          \n",
    "    check = True\n",
    "    while check:\n",
    "        x_new = copy.copy(x)\n",
    "        for i in range(size):\n",
    "            s = 0\n",
    "            for j in range(i):\n",
    "                s += arr[i][j]*x_new[j]\n",
    "            for j in range(i + 1, size):\n",
    "                s += arr[i][j]*x[j]   \n",
    "            x_new[i] = (b[i] - s)/arr[i][i]\n",
    "        pt0.append(la.norm(x_new[0] - x[0]))\n",
    "        pt1.append(la.norm(x_new[1] - x[1]))\n",
    "        pt2.append(la.norm(x_new[2] - x[2]))\n",
    "        pt3.append(la.norm(x_new[3] - x[3]))\n",
    "        ptg.append(la.norm(x_new - x))\n",
    "        if la.norm(x_new - x) < error:\n",
    "            check = False\n",
    "        x = x_new\n",
    "        print(x)   \n",
    "    \n",
    "    plt.plot(pt0)\n",
    "    plt.ylabel('Error')\n",
    "    plt.xlabel('Iteration')\n",
    "    plt.show()\n",
    "    \n",
    "    plt.plot(pt1)\n",
    "    plt.ylabel('Error')\n",
    "    plt.xlabel('Iteration')\n",
    "    plt.show()\n",
    "    \n",
    "    plt.plot(pt2)\n",
    "    plt.ylabel('Error')\n",
    "    plt.xlabel('Iteration')\n",
    "    plt.show()\n",
    "    \n",
    "    plt.plot(pt3)\n",
    "    plt.ylabel('Error')\n",
    "    plt.xlabel('Iteration')\n",
    "    plt.show()\n",
    "    \n",
    "    plt.plot(ptg)\n",
    "    plt.ylabel('Error')\n",
    "    plt.xlabel('Iteration')\n",
    "    plt.show()\n",
    "\n",
    "Zeidel(arr, b, 1e-5)\n",
    "    \n",
    "    "
   ]
  },
  {
   "cell_type": "code",
   "execution_count": 39,
   "metadata": {},
   "outputs": [
    {
     "name": "stdout",
     "output_type": "stream",
     "text": [
      "[ 0.16431804  0.05887251 -0.01281397  0.14085718]\n",
      "[ 0.16038037  0.05253163 -0.01248176  0.12630772]\n",
      "[ 0.16043218  0.05250272 -0.01250203  0.12622151]\n"
     ]
    }
   ],
   "source": [
    "import numpy as np\n",
    "from numpy import linalg as la\n",
    "import copy\n",
    "def grad(A, b, err, x):\n",
    "    r = b - np.dot(A, x)\n",
    "    r_s = copy.copy(r)\n",
    "    ro = 1\n",
    "    alfa = 1\n",
    "    w = 1.0\n",
    "    v = 0\n",
    "    p = 0\n",
    "    while la.norm(r)/la.norm(b) > err:\n",
    "        ro_next = np.dot(r_s, r)\n",
    "        beta_next = np.dot(ro_next, alfa)/np.dot(ro, w)\n",
    "        p_next = r + np.dot(beta_next, p) - np.dot(beta_next, w*v)\n",
    "        v_next = np.dot(A, p_next)\n",
    "        alfa_next = ro_next/np.dot(r_s, v_next)\n",
    "        s_next = r - np.dot(alfa_next, v_next)\n",
    "        t_next = np.dot(A, s_next)\n",
    "        w_next = np.dot(t_next, s_next)/np.dot(t_next, t_next)\n",
    "        x_next = x + np.dot(w_next, s_next) + np.dot(alfa_next, p_next)\n",
    "        r_next = s_next - np.dot(w_next, t_next)\n",
    "        \n",
    "        r = copy.copy(r_next)\n",
    "        x = copy.copy(x_next)\n",
    "        ro = copy.copy(ro_next)\n",
    "        alfa = copy.copy(alfa_next)\n",
    "        w = w_next\n",
    "        v = v_next\n",
    "        p = p_next\n",
    "        print(x)\n",
    "\n",
    "A = np.array([[4.247,0.275,0.397,0.239],\n",
    "                [0.466,4.235,0.264,0.358],\n",
    "                [0.204,0.501,3.721,0.297],\n",
    "                [0.326,0.421,0.254,3.286]])\n",
    "\n",
    "b = np.array([0.721,0.339,0.050,0.486])\n",
    "x = [1,1,1,1]\n",
    "grad(A, b, 1e-5, x)\n",
    "\n",
    "        \n",
    "    \n",
    "        "
   ]
  },
  {
   "cell_type": "code",
   "execution_count": 40,
   "metadata": {},
   "outputs": [
    {
     "name": "stdout",
     "output_type": "stream",
     "text": [
      "[ 0.16043268  0.05250317 -0.01250222  0.12622358]\n"
     ]
    }
   ],
   "source": [
    "import copy\n",
    "import numpy as np\n",
    "from numpy import linalg as la\n",
    "import scipy.linalg as sla\n",
    "def prec_bicgstab(A, b, err, x):\n",
    "    r = b - np.dot(A, x)\n",
    "    r_s0 = copy.copy(r)\n",
    "    ro = 1\n",
    "    alfa = 1\n",
    "    w = 1\n",
    "    v = 0\n",
    "    p = 0\n",
    "    (P, L, U) = sla.lu(A)\n",
    "    K1 = L\n",
    "    K2 = U\n",
    "    K = np.dot(K1, K2)\n",
    "    while la.norm(r)/la.norm(b) > err:\n",
    "        ro_next = np.dot(r_s0, r)\n",
    "        beta = (ro_next/ro) * (alfa/w)\n",
    "        p_next = r + np.dot(beta, p) - np.dot(beta, w*v)\n",
    "        y = np.dot(la.inv(K),p_next)\n",
    "        v_next = np.dot(A, y)\n",
    "        alfa = ro_next/np.dot(r_s0, v_next)\n",
    "        h = x + np.dot(alfa, y)\n",
    "\n",
    "        s = r - np.dot(alfa, v_next)\n",
    "        z = np.dot(la.inv(K), s)\n",
    "        t = np.dot(A, z)\n",
    "        w_next = np.dot(np.dot(la.inv(K1), t), np.dot(la.inv(K1), s)) / np.dot(np.dot(la.inv(K1), t), np.dot(la.inv(K1), t))\n",
    "        x_next = h + np.dot(w_next, z)\n",
    "        r_next = s - np.dot(w_next, t)\n",
    "        \n",
    "        r = copy.copy(r_next)\n",
    "        ro = copy.copy(ro_next)\n",
    "        w = copy.copy(w_next)\n",
    "        v = copy.copy(v_next)\n",
    "        p = copy.copy(p_next)\n",
    "        x = copy.copy(x_next)\n",
    "    print(x)    \n",
    "                                                                 \n",
    "A = np.array([[4.247,0.275,0.397,0.239],\n",
    "                [0.466,4.235,0.264,0.358],\n",
    "                [0.204,0.501,3.721,0.297],\n",
    "                [0.326,0.421,0.254,3.286]])\n",
    "\n",
    "b = np.array([0.721,0.339,0.050,0.486])\n",
    "x = [0,0,0,0]\n",
    "prec_bicgstab(A, b, 1e-5, x)"
   ]
  },
  {
   "cell_type": "code",
   "execution_count": 3,
   "metadata": {},
   "outputs": [
    {
     "name": "stdout",
     "output_type": "stream",
     "text": [
      "[[1.         0.5        0.33333333]\n",
      " [0.5        0.33333333 0.25      ]\n",
      " [0.33333333 0.25       0.2       ]]\n",
      "[[   9.  -36.   30.]\n",
      " [ -36.  192. -180.]\n",
      " [  30. -180.  180.]]\n",
      "[[1.     0.5    0.3333]\n",
      " [0.5    0.3333 0.25  ]\n",
      " [0.3333 0.25   0.2   ]]\n",
      "3.333333333332966e-05\n"
     ]
    }
   ],
   "source": [
    "import numpy as np\n",
    "import copy\n",
    "from numpy import linalg as la\n",
    "def matrix_round(A):\n",
    "    for i in range(len(A)):\n",
    "        for j in range(len(A[i])):\n",
    "            A[i][j] = round(A[i][j], 4)\n",
    "    return A\n",
    "def create_gilbert_matrix(n):\n",
    "    A = np.zeros((n,n))\n",
    "    for i in range(n):\n",
    "        for j in range(n):\n",
    "            A[i][j] = 1/((i+1) + (j+1) - 1)\n",
    "    return A\n",
    "def Gauss_modified(size, arr):\n",
    "    \n",
    "    for t in range(size):\n",
    "        arr[0 + t] /= arr[0 + t][0 + t]\n",
    "        for i in range(t + 1, size, 1):\n",
    "                arr[i] -= arr[0 + t] * arr[i][0 + t]\n",
    "    \n",
    "    for t in range(size):            \n",
    "        arr[size - 1 - t] /= arr[size - 1 - t][size - 1 - t]\n",
    "        for i in range(size - 2 - t, -1, -1):\n",
    "            arr[i] -= arr[size - 1 - t] * arr[i][size - 1 - t]\n",
    "    arr = matrix_round(arr) \n",
    "    return arr[:,size:2*size]\n",
    "    \n",
    "A = create_gilbert_matrix(3)\n",
    "print(A)\n",
    "A_copy = copy.copy(A)\n",
    "B = np.zeros((3,6))\n",
    "for i in range(3):\n",
    "    for j in range(3):\n",
    "        B[i][j] = A[i][j]\n",
    "for i in range(3):\n",
    "    B[i][3 + i] = 1\n",
    "        \n",
    "A = Gauss_modified(3, B)\n",
    "print(A)\n",
    "B = np.zeros((3,6))\n",
    "for i in range(3):\n",
    "    for j in range(3):\n",
    "        B[i][j] = A[i][j]\n",
    "for i in range(3):\n",
    "    B[i][3 + i] = 1\n",
    "A = Gauss_modified(3, B)\n",
    "print(A)\n",
    "print(la.norm(A_copy - A, ord = np.inf))\n",
    "\n",
    "\n",
    "            "
   ]
  },
  {
   "cell_type": "code",
   "execution_count": 15,
   "metadata": {},
   "outputs": [
    {
     "name": "stdout",
     "output_type": "stream",
     "text": [
      "[[4.247 0.275 0.397]\n",
      " [0.466 4.235 0.264]\n",
      " [0.204 0.501 3.721]]\n",
      "\n",
      "[[0.466 4.235 0.264]\n",
      " [4.247 0.275 0.397]\n",
      " [0.204 0.501 3.721]]\n"
     ]
    }
   ],
   "source": [
    "import numpy as np\n",
    "import copy\n",
    "A = np.array([[4.247,0.275,0.397],\n",
    "                [0.466,4.235,0.264],\n",
    "                [0.204,0.501,3.721]])\n",
    "print(A)\n",
    "print()\n",
    "def func(A):\n",
    "    B = np.zeros((len(A),len(A)))\n",
    "    for i in range(len(A)):\n",
    "        B[i][i] = 1\n",
    "    buffer = copy.copy(B[0])\n",
    "    B[0] = B[1]\n",
    "    B[1] = buffer\n",
    "    return np.dot(B,A)\n",
    "print(func(A))    "
   ]
  },
  {
   "cell_type": "code",
   "execution_count": null,
   "metadata": {},
   "outputs": [],
   "source": []
  }
 ],
 "metadata": {
  "kernelspec": {
   "display_name": "Python 3",
   "language": "python",
   "name": "python3"
  },
  "language_info": {
   "codemirror_mode": {
    "name": "ipython",
    "version": 3
   },
   "file_extension": ".py",
   "mimetype": "text/x-python",
   "name": "python",
   "nbconvert_exporter": "python",
   "pygments_lexer": "ipython3",
   "version": "3.7.4"
  }
 },
 "nbformat": 4,
 "nbformat_minor": 2
}
